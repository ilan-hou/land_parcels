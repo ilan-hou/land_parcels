{
 "cells": [
  {
   "metadata": {
    "ExecuteTime": {
     "end_time": "2025-03-20T23:06:53.178361Z",
     "start_time": "2025-03-20T23:06:53.168606Z"
    }
   },
   "cell_type": "code",
   "source": [
    "import geopandas as gpd\n",
    "import numpy as np\n",
    "from pulp import LpMaximize, LpProblem, LpVariable, lpSum\n",
    "import pulp\n",
    "\n",
    "shapefile_path = \"land_parcels.shp\"\n",
    "gdf = gpd.read_file(shapefile_path)\n",
    "# reproject to EPSG:3347\n",
    "gdf = gdf.to_crs(epsg=3347)\n",
    "\n",
    "# compute area in square kilometers\n",
    "gdf[\"area_km2\"] = gdf.geometry.area / 1e6\n",
    "\n",
    "# define a reasonable area threshold (e.g., 0.1 km²)\n",
    "area_threshold = 50\n",
    "init_count = gdf.shape[0]\n",
    "gdf = gdf[gdf[\"area_km2\"] >= area_threshold]\n",
    "filtered_count = init_count - gdf.shape[0]\n",
    "\n",
    "# summary statistics\n",
    "num_polygons = gdf.shape[0]\n",
    "min_area = gdf[\"area_km2\"].min()\n",
    "avg_area = gdf[\"area_km2\"].mean()\n",
    "max_area = gdf[\"area_km2\"].max()\n",
    "carbon_store_range = (gdf[\"carbon_sto\"].min(), gdf[\"carbon_sto\"].max())\n",
    "cost_range = (gdf[\"cost\"].min(), gdf[\"cost\"].max())\n",
    "\n",
    "print(f\"Number of polygons after filtering: {num_polygons}\")\n",
    "print(f\"Polygons removed: {filtered_count}\")\n",
    "print(f\"Min area (km²): {min_area}\")\n",
    "print(f\"Avg area (km²): {avg_area}\")\n",
    "print(f\"Max area (km²): {max_area}\")\n",
    "print(f\"Carbon store range: {carbon_store_range}\")\n",
    "print(f\"Cost range: {cost_range}\")"
   ],
   "id": "fbc121e30a2defb3",
   "outputs": [
    {
     "name": "stdout",
     "output_type": "stream",
     "text": [
      "Number of polygons after filtering: 95\n",
      "Polygons removed: 5\n",
      "Min area (km²): 53.05923376683125\n",
      "Avg area (km²): 82.44460022848595\n",
      "Max area (km²): 132.0955428630866\n",
      "Carbon store range: (10.036534572755878, 99.8608996768998)\n",
      "Cost range: (524.9516816211429, 4982.434015347925)\n"
     ]
    }
   ],
   "execution_count": 4
  },
  {
   "metadata": {
    "ExecuteTime": {
     "end_time": "2025-03-20T23:06:53.256627Z",
     "start_time": "2025-03-20T23:06:53.192486Z"
    }
   },
   "cell_type": "code",
   "source": [
    "# compute adjacency matrix\n",
    "num_parcels = len(gdf)\n",
    "adjacency_matrix = np.zeros((num_parcels, num_parcels), dtype=int)\n",
    "for i in range(num_parcels):\n",
    "    for j in range(i + 1, num_parcels):\n",
    "        if gdf.geometry.iloc[i].touches(gdf.geometry.iloc[j]):\n",
    "            adjacency_matrix[i, j] = 1\n",
    "            adjacency_matrix[j, i] = 1\n",
    "print(adjacency_matrix.shape)"
   ],
   "id": "ed1e4b4c0d048456",
   "outputs": [
    {
     "name": "stdout",
     "output_type": "stream",
     "text": [
      "(95, 95)\n"
     ]
    }
   ],
   "execution_count": 5
  },
  {
   "metadata": {
    "ExecuteTime": {
     "end_time": "2025-03-20T23:07:27.262898Z",
     "start_time": "2025-03-20T23:07:22.756563Z"
    }
   },
   "cell_type": "code",
   "source": [
    "print(pulp.listSolvers(onlyAvailable=True))\n",
    "# define the problem\n",
    "problem = LpProblem(name=\"land_parcel_optimization\", sense=LpMaximize)\n",
    "\n",
    "# define decision Variables\n",
    "parcels = list(gdf.index)\n",
    "x = {p: LpVariable(name=f\"parcel_{p}\", cat='Binary') for p in parcels}\n",
    "\n",
    "# Constraints\n",
    "budget_limit = 0.5 * gdf[\"cost\"].sum()\n",
    "problem += lpSum(gdf.loc[p, \"cost\"] * x[p] for p in parcels) <= budget_limit\n",
    "\n",
    "for i in range(num_parcels):\n",
    "    for j in range(num_parcels):\n",
    "        if adjacency_matrix[i, j] == 1:\n",
    "            problem += x[parcels[i]] + x[parcels[j]] <= 1\n",
    "\n",
    "# Objective Function\n",
    "problem += lpSum(gdf.loc[p, \"carbon_sto\"] * x[p] for p in parcels)\n",
    "\n",
    "# Step 4: Solve the Problem\n",
    "problem.solve()\n",
    "\n",
    "# Step 5: Output Results\n",
    "selected_parcels = [p for p in parcels if x[p].varValue == 1]\n",
    "total_carbon_store = sum(gdf.loc[p, \"carbon_sto\"] for p in selected_parcels)\n",
    "total_cost = sum(gdf.loc[p, \"cost\"] for p in selected_parcels)\n",
    "total_carbon_store, total_cost"
   ],
   "id": "279cedae3850c666",
   "outputs": [
    {
     "name": "stdout",
     "output_type": "stream",
     "text": [
      "['GLPK_CMD']\n",
      "GLPSOL--GLPK LP/MIP Solver 5.0\n",
      "Parameter(s) specified in the command line:\n",
      " --cpxlp /var/folders/d4/6r524yqx4lsbn99gww8xth600000gn/T/e5685009724d4caeb5b8b834562f4d40-pulp.lp\n",
      " -o /var/folders/d4/6r524yqx4lsbn99gww8xth600000gn/T/e5685009724d4caeb5b8b834562f4d40-pulp.sol\n",
      "Reading problem data from '/var/folders/d4/6r524yqx4lsbn99gww8xth600000gn/T/e5685009724d4caeb5b8b834562f4d40-pulp.lp'...\n",
      "625 rows, 95 columns, 1343 non-zeros\n",
      "95 integer variables, all of which are binary\n",
      "788 lines were read\n",
      "GLPK Integer Optimizer 5.0\n",
      "625 rows, 95 columns, 1343 non-zeros\n",
      "95 integer variables, all of which are binary\n",
      "Preprocessing...\n",
      "625 rows, 95 columns, 1343 non-zeros\n",
      "95 integer variables, all of which are binary\n",
      "Scaling...\n",
      " A: min|aij| =  1.000e+00  max|aij| =  4.982e+03  ratio =  4.982e+03\n",
      "GM: min|aij| =  5.728e-01  max|aij| =  1.746e+00  ratio =  3.047e+00\n",
      "EQ: min|aij| =  3.291e-01  max|aij| =  1.000e+00  ratio =  3.039e+00\n",
      "2N: min|aij| =  1.772e-01  max|aij| =  1.000e+00  ratio =  5.642e+00\n",
      "Constructing initial basis...\n",
      "Size of triangular part is 625\n",
      "Solving LP relaxation...\n",
      "GLPK Simplex Optimizer 5.0\n",
      "625 rows, 95 columns, 1343 non-zeros\n",
      "*     0: obj =  -0.000000000e+00 inf =   0.000e+00 (95)\n",
      "*   126: obj =   2.667740758e+03 inf =   0.000e+00 (0)\n",
      "OPTIMAL LP SOLUTION FOUND\n",
      "Integer optimization begins...\n",
      "Long-step dual simplex will be used\n",
      "+   126: mip =     not found yet <=              +inf        (1; 0)\n",
      "+   261: >>>>>   1.721971969e+03 <=   2.607928403e+03  51.5% (37; 0)\n",
      "+   379: >>>>>   1.733095759e+03 <=   2.576414851e+03  48.7% (64; 1)\n",
      "+  1657: >>>>>   1.735746518e+03 <=   2.391607748e+03  37.8% (312; 20)\n",
      "+  2088: >>>>>   1.747181997e+03 <=   2.362866602e+03  35.2% (395; 28)\n",
      "+  4240: >>>>>   1.780808824e+03 <=   2.262875099e+03  27.1% (734; 79)\n",
      "+  8572: >>>>>   1.783992730e+03 <=   2.172262136e+03  21.8% (1412; 286)\n",
      "+  8948: >>>>>   1.790758088e+03 <=   2.167265712e+03  21.0% (1472; 324)\n",
      "+ 10373: >>>>>   1.791699408e+03 <=   2.144627307e+03  19.7% (1663; 426)\n",
      "+ 13038: >>>>>   1.798568721e+03 <=   2.114965464e+03  17.6% (2031; 487)\n",
      "+ 14635: >>>>>   1.800577848e+03 <=   2.098626298e+03  16.6% (2195; 636)\n",
      "+ 15884: >>>>>   1.816513000e+03 <=   2.091958546e+03  15.2% (2365; 690)\n",
      "+ 20728: >>>>>   1.845568472e+03 <=   2.056904703e+03  11.5% (2755; 1149)\n",
      "+ 37197: >>>>>   1.857818885e+03 <=   1.979082279e+03   6.5% (3625; 2728)\n",
      "+ 68708: >>>>>   1.864935513e+03 <=   1.864935513e+03   0.0% (533; 10494)\n",
      "+ 68708: mip =   1.864935513e+03 <=     tree is empty   0.0% (0; 13781)\n",
      "INTEGER OPTIMAL SOLUTION FOUND\n",
      "Time used:   4.5 secs\n",
      "Memory used: 6.1 Mb (6420947 bytes)\n",
      "Writing MIP solution to '/var/folders/d4/6r524yqx4lsbn99gww8xth600000gn/T/e5685009724d4caeb5b8b834562f4d40-pulp.sol'...\n"
     ]
    },
    {
     "data": {
      "text/plain": [
       "(1864.9355125204672, 63218.08899804288)"
      ]
     },
     "execution_count": 7,
     "metadata": {},
     "output_type": "execute_result"
    }
   ],
   "execution_count": 7
  }
 ],
 "metadata": {
  "kernelspec": {
   "display_name": "Python 3",
   "language": "python",
   "name": "python3"
  },
  "language_info": {
   "codemirror_mode": {
    "name": "ipython",
    "version": 2
   },
   "file_extension": ".py",
   "mimetype": "text/x-python",
   "name": "python",
   "nbconvert_exporter": "python",
   "pygments_lexer": "ipython2",
   "version": "2.7.6"
  }
 },
 "nbformat": 4,
 "nbformat_minor": 5
}
