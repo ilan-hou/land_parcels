{
 "cells": [
  {
   "metadata": {
    "ExecuteTime": {
     "end_time": "2025-03-21T01:02:39.008703Z",
     "start_time": "2025-03-21T01:02:38.991131Z"
    }
   },
   "cell_type": "code",
   "source": [
    "import geopandas as gpd\n",
    "import numpy as np\n",
    "import matplotlib.pyplot as plt\n",
    "from pulp import LpMaximize, LpProblem, LpVariable, lpSum\n",
    "\n",
    "shapefile_path = \"land_parcels.shp\"\n",
    "gdf = gpd.read_file(shapefile_path)\n",
    "\n",
    "# reproject to EPSG:3347\n",
    "gdf = gdf.to_crs(epsg=3347)\n",
    "\n",
    "# compute area in square kilometers\n",
    "gdf[\"area_km2\"] = gdf.geometry.area / 1e6\n",
    "\n",
    "# filter out polygons below area_threshold\n",
    "area_threshold = 1\n",
    "init_count = gdf.shape[0]\n",
    "gdf = gdf[gdf[\"area_km2\"] >= area_threshold]\n",
    "filtered_count = init_count - gdf.shape[0]\n",
    "\n",
    "# summary of the dataset\n",
    "num_polygons = gdf.shape[0]\n",
    "min_area = gdf[\"area_km2\"].min()\n",
    "avg_area = gdf[\"area_km2\"].mean()\n",
    "max_area = gdf[\"area_km2\"].max()\n",
    "carbon_store_range = (gdf[\"carbon_sto\"].min(), gdf[\"carbon_sto\"].max())\n",
    "cost_range = (gdf[\"cost\"].min(), gdf[\"cost\"].max())\n",
    "\n",
    "summary = f\"\"\"\n",
    "Polygons after filtering: {num_polygons}\n",
    "Polygons removed: {filtered_count}\n",
    "\n",
    "Area (km²):\n",
    "    Min: {min_area}\n",
    "    Avg: {avg_area}\n",
    "    Max: {max_area}\n",
    "\n",
    "Carbon Store Range: {carbon_store_range}\n",
    "Cost Range: {cost_range}\n",
    "\"\"\"\n",
    "print(summary)"
   ],
   "id": "fbc121e30a2defb3",
   "outputs": [
    {
     "name": "stdout",
     "output_type": "stream",
     "text": [
      "\n",
      "Polygons after filtering: 100\n",
      "Polygons removed: 0\n",
      "\n",
      "Area (km²):\n",
      "    Min: 37.378247236911356\n",
      "    Avg: 80.54003288468243\n",
      "    Max: 132.0955428630866\n",
      "\n",
      "Carbon Store Range: (10.036534572755878, 99.8608996768998)\n",
      "Cost Range: (524.9516816211429, 4982.434015347925)\n",
      "\n"
     ]
    }
   ],
   "execution_count": 75
  },
  {
   "metadata": {
    "ExecuteTime": {
     "end_time": "2025-03-21T01:02:39.086209Z",
     "start_time": "2025-03-21T01:02:39.011731Z"
    }
   },
   "cell_type": "code",
   "source": [
    "# compute adjacency matrix\n",
    "num_parcels = len(gdf)\n",
    "adjacency_matrix = np.zeros((num_parcels, num_parcels), dtype=int)\n",
    "for i in range(num_parcels):\n",
    "    for j in range(i + 1, num_parcels):\n",
    "        if gdf.geometry.iloc[i].touches(gdf.geometry.iloc[j]):\n",
    "            adjacency_matrix[i, j] = 1\n",
    "            adjacency_matrix[j, i] = 1"
   ],
   "id": "ed1e4b4c0d048456",
   "outputs": [],
   "execution_count": 76
  },
  {
   "metadata": {
    "ExecuteTime": {
     "end_time": "2025-03-21T01:02:39.098627Z",
     "start_time": "2025-03-21T01:02:39.096362Z"
    }
   },
   "cell_type": "code",
   "source": [
    "# define the problem\n",
    "problem = LpProblem(name=\"land_parcels_optimization\", sense=LpMaximize)\n",
    "\n",
    "# define decision variables\n",
    "parcels = list(gdf.index)\n",
    "\n",
    "# x[p] is a binary variable (1 if selected, 0 otherwise).\n",
    "x = {p: LpVariable(name=f\"parcel_{p}\", cat='Binary') for p in parcels}"
   ],
   "id": "3e4e8db014e54e7e",
   "outputs": [],
   "execution_count": 77
  },
  {
   "metadata": {
    "ExecuteTime": {
     "end_time": "2025-03-21T01:03:16.986830Z",
     "start_time": "2025-03-21T01:02:39.104792Z"
    }
   },
   "cell_type": "code",
   "source": [
    "# objective function\n",
    "problem += lpSum(gdf.loc[p, \"carbon_sto\"] * x[p] for p in parcels)\n",
    "\n",
    "# constraint #1 (Budget):\n",
    "budget_limit = 0.5 * gdf[\"cost\"].sum()\n",
    "problem += lpSum(gdf.loc[p, \"cost\"] * x[p] for p in parcels) <= budget_limit\n",
    "\n",
    "# constraint #2 (No adjacency):\n",
    "for i in range(num_parcels):\n",
    "    for j in range(num_parcels):\n",
    "        if adjacency_matrix[i, j] == 1:\n",
    "            problem += x[parcels[i]] + x[parcels[j]] <= 1\n",
    "\n",
    "# constraint #3 (Area):\n",
    "min_selected_area = 0.25 * gdf[\"area_km2\"].sum()\n",
    "problem += lpSum(gdf.loc[p, \"area_km2\"] * x[p] for p in parcels) >= min_selected_area\n",
    "\n",
    "problem.solve()"
   ],
   "id": "d6a5334bc7fb57ad",
   "outputs": [
    {
     "name": "stdout",
     "output_type": "stream",
     "text": [
      "GLPSOL--GLPK LP/MIP Solver 5.0\n",
      "Parameter(s) specified in the command line:\n",
      " --cpxlp /var/folders/d4/6r524yqx4lsbn99gww8xth600000gn/T/6521beb279c845d389be3b9ec0516544-pulp.lp\n",
      " -o /var/folders/d4/6r524yqx4lsbn99gww8xth600000gn/T/6521beb279c845d389be3b9ec0516544-pulp.sol\n",
      "Reading problem data from '/var/folders/d4/6r524yqx4lsbn99gww8xth600000gn/T/6521beb279c845d389be3b9ec0516544-pulp.lp'...\n",
      "686 rows, 100 columns, 1568 non-zeros\n",
      "100 integer variables, all of which are binary\n",
      "891 lines were read\n",
      "GLPK Integer Optimizer 5.0\n",
      "686 rows, 100 columns, 1568 non-zeros\n",
      "100 integer variables, all of which are binary\n",
      "Preprocessing...\n",
      "686 rows, 100 columns, 1568 non-zeros\n",
      "100 integer variables, all of which are binary\n",
      "Scaling...\n",
      " A: min|aij| =  1.000e+00  max|aij| =  4.982e+03  ratio =  4.982e+03\n",
      "GM: min|aij| =  4.850e-01  max|aij| =  2.062e+00  ratio =  4.252e+00\n",
      "EQ: min|aij| =  2.352e-01  max|aij| =  1.000e+00  ratio =  4.252e+00\n",
      "2N: min|aij| =  1.327e-01  max|aij| =  1.102e+00  ratio =  8.303e+00\n",
      "Constructing initial basis...\n",
      "Size of triangular part is 686\n",
      "Solving LP relaxation...\n",
      "GLPK Simplex Optimizer 5.0\n",
      "686 rows, 100 columns, 1568 non-zeros\n",
      "      0: obj =  -0.000000000e+00 inf =   1.573e+01 (1)\n",
      "     61: obj =   1.152889002e+03 inf =   0.000e+00 (0)\n",
      "*   155: obj =   2.802755339e+03 inf =   6.195e-14 (0)\n",
      "OPTIMAL LP SOLUTION FOUND\n",
      "Integer optimization begins...\n",
      "Long-step dual simplex will be used\n",
      "+   155: mip =     not found yet <=              +inf        (1; 0)\n",
      "Solution found by heuristic: 1671.54360872\n",
      "+   811: >>>>>   1.672293572e+03 <=   2.688636626e+03  60.8% (143; 10)\n",
      "+  1610: >>>>>   1.771921504e+03 <=   2.553310619e+03  44.1% (312; 16)\n",
      "+  5287: >>>>>   1.830731652e+03 <=   2.432566022e+03  32.9% (1002; 130)\n",
      "+ 60756: mip =   1.830731652e+03 <=   2.134617749e+03  16.6% (10292; 1418)\n",
      "+ 80649: >>>>>   1.848360185e+03 <=   2.102527678e+03  13.8% (13211; 1925)\n",
      "+130916: mip =   1.848360185e+03 <=   2.042631164e+03  10.5% (17374; 5649)\n",
      "+181074: mip =   1.848360185e+03 <=   1.998444722e+03   8.1% (20612; 7949)\n",
      "+221747: >>>>>   1.850182565e+03 <=   1.969655588e+03   6.5% (21685; 10343)\n",
      "+271667: mip =   1.850182565e+03 <=   1.936918577e+03   4.7% (20225; 15212)\n",
      "+319708: >>>>>   1.857426869e+03 <=   1.907072926e+03   2.7% (16715; 20873)\n",
      "+370515: mip =   1.857426869e+03 <=   1.870517982e+03   0.7% (4756; 47293)\n",
      "+385847: mip =   1.857426869e+03 <=     tree is empty   0.0% (0; 72381)\n",
      "INTEGER OPTIMAL SOLUTION FOUND\n",
      "Time used:   37.9 secs\n",
      "Memory used: 35.7 Mb (37450322 bytes)\n",
      "Writing MIP solution to '/var/folders/d4/6r524yqx4lsbn99gww8xth600000gn/T/6521beb279c845d389be3b9ec0516544-pulp.sol'...\n"
     ]
    },
    {
     "data": {
      "text/plain": [
       "1"
      ]
     },
     "execution_count": 78,
     "metadata": {},
     "output_type": "execute_result"
    }
   ],
   "execution_count": 78
  },
  {
   "metadata": {
    "ExecuteTime": {
     "end_time": "2025-03-21T01:03:17.077792Z",
     "start_time": "2025-03-21T01:03:16.996444Z"
    }
   },
   "cell_type": "code",
   "source": [
    "selected_parcels = [p for p in parcels if x[p].varValue == 1]\n",
    "total_carbon_store = sum(gdf.loc[p, \"carbon_sto\"] for p in selected_parcels)\n",
    "total_cost = sum(gdf.loc[p, \"cost\"] for p in selected_parcels)\n",
    "selected_area = sum(gdf.loc[p, \"area_km2\"] for p in selected_parcels)\n",
    "\n",
    "print(\"Selected parcels:\", selected_parcels)\n",
    "print(\"Total Carbon Store:\", total_carbon_store)\n",
    "print(\"Total Cost:\", total_cost)\n",
    "print(\"Total Selected Area (km²):\", selected_area)\n",
    "\n",
    "# visualization\n",
    "fig, ax = plt.subplots(figsize=(10, 6))\n",
    "gdf.plot(ax=ax, color='lightgray')\n",
    "# plot selected parcels in green\n",
    "gdf.loc[selected_parcels].plot(ax=ax, color='green')\n",
    "plt.show()"
   ],
   "id": "2bd2f4251b4b838e",
   "outputs": [
    {
     "name": "stdout",
     "output_type": "stream",
     "text": [
      "Selected parcels: [0, 2, 6, 9, 14, 20, 22, 26, 29, 34, 40, 46, 49, 52, 54, 60, 67, 69, 73, 81, 85, 87, 93, 99]\n",
      "Total Carbon Store: 1857.4268690033723\n",
      "Total Cost: 67793.17435924022\n",
      "Total Selected Area (km²): 2043.8368503235408\n"
     ]
    },
    {
     "data": {
      "text/plain": [
       "<Figure size 1000x600 with 1 Axes>"
      ],
      "image/png": "[encoded data removed]"
     },
     "metadata": {},
     "output_type": "display_data"
    }
   ],
   "execution_count": 79
  },
  {
   "metadata": {},
   "cell_type": "markdown",
   "source": [
    "## **Report** ##\n",
    "\n",
    "### **1. Approach and Methodology**\n",
    "\n",
    "An optimization problem was solved using the MILP framework with PuLP as the underlying library. The dataset comprises polygons of land parcels, each possessing attributes of **carbon storage**, **cost**, and **area**. The said methodology follows the steps outlined below.\n",
    "\n",
    "1. **Data Preprocessing:**\n",
    "\n",
    "   - A shapefile containing the parcels was read in through `geopandas`. Furthermore, the polygons were transformed into a  projection: **EPSG:3347**.\n",
    "\n",
    "   - Extracted polygons were filtered to remove outlier values in terms of area size.\n",
    "\n",
    "2. **Defining the Optimization Model:**\n",
    "\n",
    "   - **Decision Variables:** Each parcel was represented as a binary decision variable $d_p$ (1 if selected, 0 otherwise).\n",
    "\n",
    "   - **Objective Function:** The target of the model was to maximize the total **carbon storage** of the parcels of land selected.\n",
    "\n",
    "   - **Constraints:**\n",
    "\n",
    "     - **Budget Constraint:** Set a limit on the total cost of the selected parcels: 50% of the **total available budget**.\n",
    "\n",
    "     - **Adjacency Constraint:** Prevents the selection of two adjacent parcels at the same time.\n",
    "\n",
    "     - **Minimum Area Constraint:** Selected parcels must not be smaller than 25% of the total estimated area.\n",
    "\n",
    "3. **Solution:**\n",
    "\n",
    "   - This step runs the solver using GLPK.\n",
    "\n",
    "- The analyzed outcomes were particularly presented with green highlighting the selected areas.\n",
    "\n",
    "### **2. Challenges**\n",
    "\n",
    "The most important challenge was learning how **to effectively use PuLP** and how to define the constraints.\n",
    "\n",
    "### **3. Key Results**\n",
    "\n",
    "- **Selected Parcels:** `[0, 2, 6, 9, 14, 20, 22, 26, 29, 34, 40, 46, 49, 52, 54, 60, 67, 69, 73, 81, 85, 87, 93, 99]`\n",
    "\n",
    "- **Total Carbon Storage:** `1857.43`\n",
    "\n",
    "- **Total Cost:** `67,793.17`\n",
    "\n",
    "- **Total Selected Area:** `2043.84 km²`\n",
    "\n",
    "All chosen parcels were able to satisfy all constraints defined and maximize carbon storage.\n",
    "\n",
    "### **4. Analysis**\n",
    "The optimization succeeded in prioritizing high carbon parcels without breaching any constraint. The total cost, 67,793.17 was below the 50% budget ceiling. The adjacency constraint was met, and selected parcels (green) were optimally distributed across the area to avoid adjacent selections. The selected area of 2043.84 km² already surpassed the 25% area requirement.\n",
    "\n",
    "\n",
    "\n"
   ],
   "id": "5d6814d57e6e478f"
  }
 ],
 "metadata": {
  "kernelspec": {
   "display_name": "Python 3",
   "language": "python",
   "name": "python3"
  },
  "language_info": {
   "codemirror_mode": {
    "name": "ipython",
    "version": 2
   },
   "file_extension": ".py",
   "mimetype": "text/x-python",
   "name": "python",
   "nbconvert_exporter": "python",
   "pygments_lexer": "ipython2",
   "version": "2.7.6"
  }
 },
 "nbformat": 4,
 "nbformat_minor": 5
}
